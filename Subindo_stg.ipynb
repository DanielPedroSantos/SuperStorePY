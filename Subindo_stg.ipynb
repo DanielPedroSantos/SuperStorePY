{
 "cells": [
  {
   "cell_type": "markdown",
   "id": "f50c562c",
   "metadata": {},
   "source": [
    "# Subindo a STG para o banco"
   ]
  },
  {
   "cell_type": "code",
   "execution_count": 4,
   "id": "e9f4a3ff",
   "metadata": {},
   "outputs": [],
   "source": [
    "# Importando as bibliotecas \n",
    "\n",
    "import pandas as pd \n",
    "import sys\n",
    "import os\n",
    "from sqlalchemy import text\n",
    "from sqlalchemy import create_engine\n",
    "from dotenv import load_dotenv\n",
    "from acessobanco import acessobanco\n",
    "# from helpers import truncate_table\n",
    "\n"
   ]
  },
  {
   "cell_type": "code",
   "execution_count": 6,
   "id": "9a431ad8",
   "metadata": {},
   "outputs": [
    {
     "data": {
      "text/plain": [
       "True"
      ]
     },
     "execution_count": 6,
     "metadata": {},
     "output_type": "execute_result"
    }
   ],
   "source": [
    "# Carrega variáveis de ambiente de arquivo específico para conexão com o banco\n",
    "load_dotenv(dotenv_path=\"/home/danielpedro/Python/Projetos/SuperStorePY/Bancos/acessobanco.env\")\n"
   ]
  },
  {
   "cell_type": "code",
   "execution_count": 7,
   "id": "0dde4816",
   "metadata": {},
   "outputs": [],
   "source": [
    "# Cria engine de conexão com o banco PostgreSQL\n",
    "# Esta engine será usada para todas as operações de banco no notebook\n",
    "engine = acessobanco()"
   ]
  },
  {
   "cell_type": "code",
   "execution_count": 9,
   "id": "6e0a0715",
   "metadata": {},
   "outputs": [],
   "source": [
    "# Criando o dataframe\n",
    "\n",
    "df = pd.read_excel('/home/danielpedro/Python/Projetos/SuperStorePY/Dataset/Sample - Superstore.xlsx', sheet_name='Orders')"
   ]
  },
  {
   "cell_type": "code",
   "execution_count": 10,
   "id": "5b42f411",
   "metadata": {},
   "outputs": [
    {
     "data": {
      "text/html": [
       "<div>\n",
       "<style scoped>\n",
       "    .dataframe tbody tr th:only-of-type {\n",
       "        vertical-align: middle;\n",
       "    }\n",
       "\n",
       "    .dataframe tbody tr th {\n",
       "        vertical-align: top;\n",
       "    }\n",
       "\n",
       "    .dataframe thead th {\n",
       "        text-align: right;\n",
       "    }\n",
       "</style>\n",
       "<table border=\"1\" class=\"dataframe\">\n",
       "  <thead>\n",
       "    <tr style=\"text-align: right;\">\n",
       "      <th></th>\n",
       "      <th>Id</th>\n",
       "      <th>Id_Pedido</th>\n",
       "      <th>Data_Pedido</th>\n",
       "      <th>Data_Envio</th>\n",
       "      <th>Modo_Envio</th>\n",
       "      <th>Id_Cliente</th>\n",
       "      <th>Nome_Cliente</th>\n",
       "      <th>Segmento</th>\n",
       "      <th>Pais</th>\n",
       "      <th>Cidade</th>\n",
       "      <th>...</th>\n",
       "      <th>CE</th>\n",
       "      <th>Regiao</th>\n",
       "      <th>Id_Produto</th>\n",
       "      <th>Categoria</th>\n",
       "      <th>Sub_Categoria</th>\n",
       "      <th>Nome_Produto</th>\n",
       "      <th>Valor_Venda</th>\n",
       "      <th>Quantidade</th>\n",
       "      <th>Desconto</th>\n",
       "      <th>Lucro</th>\n",
       "    </tr>\n",
       "  </thead>\n",
       "  <tbody>\n",
       "    <tr>\n",
       "      <th>0</th>\n",
       "      <td>646</td>\n",
       "      <td>CA-2017-126221</td>\n",
       "      <td>2017-12-30</td>\n",
       "      <td>2018-01-05</td>\n",
       "      <td>Standard Class</td>\n",
       "      <td>CC-12430</td>\n",
       "      <td>Chuck Clark</td>\n",
       "      <td>Home Office</td>\n",
       "      <td>United States</td>\n",
       "      <td>Columbus</td>\n",
       "      <td>...</td>\n",
       "      <td>47201</td>\n",
       "      <td>Central</td>\n",
       "      <td>OFF-AP-10002457</td>\n",
       "      <td>Office Supplies</td>\n",
       "      <td>Appliances</td>\n",
       "      <td>Eureka The Boss Plus 12-Amp Hard Box Upright V...</td>\n",
       "      <td>209.300</td>\n",
       "      <td>2</td>\n",
       "      <td>0.0</td>\n",
       "      <td>56.5110</td>\n",
       "    </tr>\n",
       "    <tr>\n",
       "      <th>1</th>\n",
       "      <td>907</td>\n",
       "      <td>CA-2017-143259</td>\n",
       "      <td>2017-12-30</td>\n",
       "      <td>2018-01-03</td>\n",
       "      <td>Standard Class</td>\n",
       "      <td>PO-18865</td>\n",
       "      <td>Patrick O'Donnell</td>\n",
       "      <td>Consumer</td>\n",
       "      <td>United States</td>\n",
       "      <td>New York City</td>\n",
       "      <td>...</td>\n",
       "      <td>10009</td>\n",
       "      <td>East</td>\n",
       "      <td>FUR-BO-10003441</td>\n",
       "      <td>Furniture</td>\n",
       "      <td>Bookcases</td>\n",
       "      <td>Bush Westfield Collection Bookcases, Fully Ass...</td>\n",
       "      <td>323.136</td>\n",
       "      <td>4</td>\n",
       "      <td>0.2</td>\n",
       "      <td>12.1176</td>\n",
       "    </tr>\n",
       "    <tr>\n",
       "      <th>2</th>\n",
       "      <td>908</td>\n",
       "      <td>CA-2017-143259</td>\n",
       "      <td>2017-12-30</td>\n",
       "      <td>2018-01-03</td>\n",
       "      <td>Standard Class</td>\n",
       "      <td>PO-18865</td>\n",
       "      <td>Patrick O'Donnell</td>\n",
       "      <td>Consumer</td>\n",
       "      <td>United States</td>\n",
       "      <td>New York City</td>\n",
       "      <td>...</td>\n",
       "      <td>10009</td>\n",
       "      <td>East</td>\n",
       "      <td>TEC-PH-10004774</td>\n",
       "      <td>Technology</td>\n",
       "      <td>Phones</td>\n",
       "      <td>Gear Head AU3700S Headset</td>\n",
       "      <td>90.930</td>\n",
       "      <td>7</td>\n",
       "      <td>0.0</td>\n",
       "      <td>2.7279</td>\n",
       "    </tr>\n",
       "    <tr>\n",
       "      <th>3</th>\n",
       "      <td>909</td>\n",
       "      <td>CA-2017-143259</td>\n",
       "      <td>2017-12-30</td>\n",
       "      <td>2018-01-03</td>\n",
       "      <td>Standard Class</td>\n",
       "      <td>PO-18865</td>\n",
       "      <td>Patrick O'Donnell</td>\n",
       "      <td>Consumer</td>\n",
       "      <td>United States</td>\n",
       "      <td>New York City</td>\n",
       "      <td>...</td>\n",
       "      <td>10009</td>\n",
       "      <td>East</td>\n",
       "      <td>OFF-BI-10003684</td>\n",
       "      <td>Office Supplies</td>\n",
       "      <td>Binders</td>\n",
       "      <td>Wilson Jones Legal Size Ring Binders</td>\n",
       "      <td>52.776</td>\n",
       "      <td>3</td>\n",
       "      <td>0.2</td>\n",
       "      <td>19.7910</td>\n",
       "    </tr>\n",
       "    <tr>\n",
       "      <th>4</th>\n",
       "      <td>1297</td>\n",
       "      <td>CA-2017-115427</td>\n",
       "      <td>2017-12-30</td>\n",
       "      <td>2018-01-03</td>\n",
       "      <td>Standard Class</td>\n",
       "      <td>EB-13975</td>\n",
       "      <td>Erica Bern</td>\n",
       "      <td>Corporate</td>\n",
       "      <td>United States</td>\n",
       "      <td>Fairfield</td>\n",
       "      <td>...</td>\n",
       "      <td>94533</td>\n",
       "      <td>West</td>\n",
       "      <td>OFF-BI-10002103</td>\n",
       "      <td>Office Supplies</td>\n",
       "      <td>Binders</td>\n",
       "      <td>Cardinal Slant-D Ring Binder, Heavy Gauge Vinyl</td>\n",
       "      <td>13.904</td>\n",
       "      <td>2</td>\n",
       "      <td>0.2</td>\n",
       "      <td>4.5188</td>\n",
       "    </tr>\n",
       "  </tbody>\n",
       "</table>\n",
       "<p>5 rows × 21 columns</p>\n",
       "</div>"
      ],
      "text/plain": [
       "     Id       Id_Pedido Data_Pedido Data_Envio      Modo_Envio Id_Cliente  \\\n",
       "0   646  CA-2017-126221  2017-12-30 2018-01-05  Standard Class   CC-12430   \n",
       "1   907  CA-2017-143259  2017-12-30 2018-01-03  Standard Class   PO-18865   \n",
       "2   908  CA-2017-143259  2017-12-30 2018-01-03  Standard Class   PO-18865   \n",
       "3   909  CA-2017-143259  2017-12-30 2018-01-03  Standard Class   PO-18865   \n",
       "4  1297  CA-2017-115427  2017-12-30 2018-01-03  Standard Class   EB-13975   \n",
       "\n",
       "        Nome_Cliente     Segmento           Pais         Cidade  ...     CE  \\\n",
       "0        Chuck Clark  Home Office  United States       Columbus  ...  47201   \n",
       "1  Patrick O'Donnell     Consumer  United States  New York City  ...  10009   \n",
       "2  Patrick O'Donnell     Consumer  United States  New York City  ...  10009   \n",
       "3  Patrick O'Donnell     Consumer  United States  New York City  ...  10009   \n",
       "4         Erica Bern    Corporate  United States      Fairfield  ...  94533   \n",
       "\n",
       "    Regiao       Id_Produto        Categoria Sub_Categoria  \\\n",
       "0  Central  OFF-AP-10002457  Office Supplies    Appliances   \n",
       "1     East  FUR-BO-10003441        Furniture     Bookcases   \n",
       "2     East  TEC-PH-10004774       Technology        Phones   \n",
       "3     East  OFF-BI-10003684  Office Supplies       Binders   \n",
       "4     West  OFF-BI-10002103  Office Supplies       Binders   \n",
       "\n",
       "                                        Nome_Produto Valor_Venda  Quantidade  \\\n",
       "0  Eureka The Boss Plus 12-Amp Hard Box Upright V...     209.300           2   \n",
       "1  Bush Westfield Collection Bookcases, Fully Ass...     323.136           4   \n",
       "2                          Gear Head AU3700S Headset      90.930           7   \n",
       "3               Wilson Jones Legal Size Ring Binders      52.776           3   \n",
       "4    Cardinal Slant-D Ring Binder, Heavy Gauge Vinyl      13.904           2   \n",
       "\n",
       "   Desconto    Lucro  \n",
       "0       0.0  56.5110  \n",
       "1       0.2  12.1176  \n",
       "2       0.0   2.7279  \n",
       "3       0.2  19.7910  \n",
       "4       0.2   4.5188  \n",
       "\n",
       "[5 rows x 21 columns]"
      ]
     },
     "execution_count": 10,
     "metadata": {},
     "output_type": "execute_result"
    }
   ],
   "source": [
    "# Visualizando os o top 5\n",
    "\n",
    "df.head()"
   ]
  },
  {
   "cell_type": "code",
   "execution_count": 11,
   "id": "d4ac723b",
   "metadata": {},
   "outputs": [],
   "source": [
    "# Mapear colunas específicas se necessário\n",
    "\n",
    "df = df.rename(columns={\n",
    "    'Id': 'id',\n",
    "    'Id_Pedido': 'id_pedido', \n",
    "    'Data_Pedido': 'data_pedido',\n",
    "    'Data_Envio': 'data_envio',\n",
    "    'Modo_Envio': 'modo_envio',\n",
    "    'Id_Cliente': 'id_cliente',\n",
    "    'Nome_Cliente': 'nome_cliente',\n",
    "    'Segmento': 'segmento',\n",
    "    'Pais': 'pais',\n",
    "    'Cidade': 'cidade',\n",
    "    'Estado': 'estado',\n",
    "    'CE': 'ce',\n",
    "    'Regiao': 'regiao',\n",
    "    'Id_Produto': 'id_produto',\n",
    "    'Categoria': 'categoria',\n",
    "    'Sub_Categoria': 'sub_categoria',\n",
    "    'Nome_Produto': 'nome_produto',\n",
    "    'Valor_Venda': 'valor_venda',\n",
    "    'Quantidade': 'quantidade',\n",
    "    'Desconto': 'desconto',\n",
    "    'Lucro': 'lucro'\n",
    "})\n"
   ]
  },
  {
   "cell_type": "code",
   "execution_count": 16,
   "id": "eba20a5a",
   "metadata": {},
   "outputs": [
    {
     "data": {
      "text/plain": [
       "9994"
      ]
     },
     "execution_count": 16,
     "metadata": {},
     "output_type": "execute_result"
    }
   ],
   "source": [
    "# Gravando um os dados na tabela \n",
    "\n",
    "df.to_sql(\n",
    "    name='orders',\n",
    "    con=engine,\n",
    "    schema='stg',\n",
    "    if_exists='append',\n",
    "    index=False,         # não envia o índice do DataFrame\n",
    "    method=\"multi\",      # insere em lote (batch)\n",
    "    chunksize=5000       # 5.000 linhas por inserção\n",
    ")"
   ]
  },
  {
   "cell_type": "code",
   "execution_count": 15,
   "id": "e18afe97",
   "metadata": {},
   "outputs": [
    {
     "name": "stdout",
     "output_type": "stream",
     "text": [
      "Total de registros na tabela: 0\n"
     ]
    }
   ],
   "source": [
    "# Realizando uma contagem dos dados usando o pandas\n",
    "\n",
    "count = pd.read_sql(\"SELECT COUNT(*) as total_registros FROM stg.orders\", engine).iloc[0,0]\n",
    "print(f\"Total de registros na tabela: {count}\")"
   ]
  },
  {
   "cell_type": "code",
   "execution_count": 14,
   "id": "1fb6c1fe",
   "metadata": {},
   "outputs": [
    {
     "name": "stdout",
     "output_type": "stream",
     "text": [
      "Limpando tabela stg.orders...\n",
      "Tabela stg.orders truncada com sucesso!\n"
     ]
    }
   ],
   "source": [
    "# Truncate da tabela \n",
    "\n",
    "tabela = 'orders'\n",
    "schema = 'stg' \n",
    "\n",
    "try:\n",
    "    with engine.begin() as conn:\n",
    "        print(f'Limpando tabela {schema}.{tabela}...')\n",
    "        conn.execute(text(f'TRUNCATE TABLE {schema}.{tabela}'))\n",
    "        print(f'Tabela {schema}.{tabela} truncada com sucesso!')\n",
    "        \n",
    "except Exception as e:\n",
    "    print(f'Erro ao truncar a tabela {schema}.{tabela}: {e}')\n",
    "    print('Detalhes do erro:', str(e))"
   ]
  }
 ],
 "metadata": {
  "kernelspec": {
   "display_name": "base",
   "language": "python",
   "name": "python3"
  },
  "language_info": {
   "codemirror_mode": {
    "name": "ipython",
    "version": 3
   },
   "file_extension": ".py",
   "mimetype": "text/x-python",
   "name": "python",
   "nbconvert_exporter": "python",
   "pygments_lexer": "ipython3",
   "version": "3.13.5"
  }
 },
 "nbformat": 4,
 "nbformat_minor": 5
}
