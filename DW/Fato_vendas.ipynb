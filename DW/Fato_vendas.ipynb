{
 "cells": [
  {
   "cell_type": "markdown",
   "id": "db25b8e9",
   "metadata": {},
   "source": [
    "# Desenvolvimento da Fato Vendas"
   ]
  },
  {
   "cell_type": "code",
   "execution_count": 1,
   "id": "9a1c259c",
   "metadata": {},
   "outputs": [],
   "source": [
    "import sys\n",
    "import os\n",
    "sys.path.append(os.path.abspath(os.path.join(os.getcwd(), '..')))\n"
   ]
  },
  {
   "cell_type": "code",
   "execution_count": 2,
   "id": "fa5b7f0b",
   "metadata": {},
   "outputs": [],
   "source": [
    " # Importando dados \n",
    "\n",
    "import pandas as pd \n",
    "from sqlalchemy import text\n",
    "from sqlalchemy import create_engine\n",
    "from dotenv import load_dotenv\n",
    "from utils.acessobanco import acessobanco"
   ]
  },
  {
   "cell_type": "code",
   "execution_count": 3,
   "id": "074c22f4",
   "metadata": {},
   "outputs": [
    {
     "data": {
      "text/plain": [
       "True"
      ]
     },
     "execution_count": 3,
     "metadata": {},
     "output_type": "execute_result"
    }
   ],
   "source": [
    "# Carrega as variáveis de ambiente do arquivo .env\n",
    "\n",
    "load_dotenv(dotenv_path=\"/home/danielpedro/Python/Projetos/SuperStorePY/Bancos/acessobanco.env\")\n"
   ]
  },
  {
   "cell_type": "code",
   "execution_count": 4,
   "id": "63dac5c1",
   "metadata": {},
   "outputs": [],
   "source": [
    "# Cria a conexão com o banco usando a função acessobanco()\n",
    "\n",
    "engine = acessobanco()"
   ]
  },
  {
   "cell_type": "code",
   "execution_count": 5,
   "id": "5efd2fa1",
   "metadata": {},
   "outputs": [],
   "source": [
    "# criando o dataframe atraves da query com left join\n",
    "\n",
    "df_fato = pd.read_sql(\"\"\"select\n",
    "\tid as sk_pedido\n",
    "\t,calenPed.sk_data  as sk_data_pedido\n",
    "\t,calenEnv.sk_data  as sk_data_envio\n",
    "\t,mte.sk_modo_envio \n",
    "\t,c.sk_cliente \n",
    "\t,v.sk_vendedores \n",
    "\t,p.sk_produto \n",
    "\t,valor_venda\n",
    "\t,quantidade\n",
    "\t,desconto\n",
    "\t,lucro\n",
    "\t from stg.orders as ord\n",
    "\t left join dw.dim_metodo_envio_scd1 as mte\n",
    "\t on ord.modo_envio  = mte.modo_envio\t \n",
    "\t left join dw.dim_cliente_scd1 as c\n",
    "\t on ord.id_cliente  = c.id_cliente\t \n",
    "\t left join dw.dim_produto_scd2 as p\n",
    "\t on ord.id_produto = p.id_produto \n",
    "\t left join dw.dim_vendedores_scd1 v\n",
    "\t on ord.regiao = v.regiao\n",
    "\t left join dw.dim_calendario AS calenPed\n",
    "     on TO_DATE(ord.data_pedido, 'YYYY-MM-DD') = calenPed.data\n",
    "\t left join dw.dim_calendario AS calenEnv\n",
    "     on TO_DATE(ord.data_envio, 'YYYY-MM-DD') = calenEnv.data\"\"\",engine)"
   ]
  },
  {
   "cell_type": "code",
   "execution_count": 6,
   "id": "33322b1a",
   "metadata": {},
   "outputs": [
    {
     "data": {
      "text/html": [
       "<div>\n",
       "<style scoped>\n",
       "    .dataframe tbody tr th:only-of-type {\n",
       "        vertical-align: middle;\n",
       "    }\n",
       "\n",
       "    .dataframe tbody tr th {\n",
       "        vertical-align: top;\n",
       "    }\n",
       "\n",
       "    .dataframe thead th {\n",
       "        text-align: right;\n",
       "    }\n",
       "</style>\n",
       "<table border=\"1\" class=\"dataframe\">\n",
       "  <thead>\n",
       "    <tr style=\"text-align: right;\">\n",
       "      <th></th>\n",
       "      <th>sk_pedido</th>\n",
       "      <th>sk_data_pedido</th>\n",
       "      <th>sk_data_envio</th>\n",
       "      <th>sk_modo_envio</th>\n",
       "      <th>sk_cliente</th>\n",
       "      <th>sk_vendedores</th>\n",
       "      <th>sk_produto</th>\n",
       "      <th>valor_venda</th>\n",
       "      <th>quantidade</th>\n",
       "      <th>desconto</th>\n",
       "      <th>lucro</th>\n",
       "    </tr>\n",
       "  </thead>\n",
       "  <tbody>\n",
       "    <tr>\n",
       "      <th>0</th>\n",
       "      <td>646</td>\n",
       "      <td>20171230</td>\n",
       "      <td>20180105</td>\n",
       "      <td>1</td>\n",
       "      <td>161</td>\n",
       "      <td>3</td>\n",
       "      <td>615</td>\n",
       "      <td>209.3</td>\n",
       "      <td>2</td>\n",
       "      <td>0.0</td>\n",
       "      <td>56.510999999999996</td>\n",
       "    </tr>\n",
       "    <tr>\n",
       "      <th>1</th>\n",
       "      <td>907</td>\n",
       "      <td>20171230</td>\n",
       "      <td>20180103</td>\n",
       "      <td>1</td>\n",
       "      <td>590</td>\n",
       "      <td>2</td>\n",
       "      <td>388</td>\n",
       "      <td>323.136</td>\n",
       "      <td>4</td>\n",
       "      <td>0.2</td>\n",
       "      <td>12.117599999999968</td>\n",
       "    </tr>\n",
       "    <tr>\n",
       "      <th>2</th>\n",
       "      <td>908</td>\n",
       "      <td>20171230</td>\n",
       "      <td>20180103</td>\n",
       "      <td>1</td>\n",
       "      <td>590</td>\n",
       "      <td>2</td>\n",
       "      <td>732</td>\n",
       "      <td>90.93</td>\n",
       "      <td>7</td>\n",
       "      <td>0.0</td>\n",
       "      <td>2.7278999999999964</td>\n",
       "    </tr>\n",
       "    <tr>\n",
       "      <th>3</th>\n",
       "      <td>909</td>\n",
       "      <td>20171230</td>\n",
       "      <td>20180103</td>\n",
       "      <td>1</td>\n",
       "      <td>590</td>\n",
       "      <td>2</td>\n",
       "      <td>1658</td>\n",
       "      <td>52.775999999999996</td>\n",
       "      <td>3</td>\n",
       "      <td>0.2</td>\n",
       "      <td>19.791</td>\n",
       "    </tr>\n",
       "    <tr>\n",
       "      <th>4</th>\n",
       "      <td>1297</td>\n",
       "      <td>20171230</td>\n",
       "      <td>20180103</td>\n",
       "      <td>1</td>\n",
       "      <td>264</td>\n",
       "      <td>1</td>\n",
       "      <td>412</td>\n",
       "      <td>13.904</td>\n",
       "      <td>2</td>\n",
       "      <td>0.2</td>\n",
       "      <td>4.5188</td>\n",
       "    </tr>\n",
       "  </tbody>\n",
       "</table>\n",
       "</div>"
      ],
      "text/plain": [
       "  sk_pedido  sk_data_pedido  sk_data_envio  sk_modo_envio  sk_cliente  \\\n",
       "0       646        20171230       20180105              1         161   \n",
       "1       907        20171230       20180103              1         590   \n",
       "2       908        20171230       20180103              1         590   \n",
       "3       909        20171230       20180103              1         590   \n",
       "4      1297        20171230       20180103              1         264   \n",
       "\n",
       "   sk_vendedores  sk_produto         valor_venda quantidade desconto  \\\n",
       "0              3         615               209.3          2      0.0   \n",
       "1              2         388             323.136          4      0.2   \n",
       "2              2         732               90.93          7      0.0   \n",
       "3              2        1658  52.775999999999996          3      0.2   \n",
       "4              1         412              13.904          2      0.2   \n",
       "\n",
       "                lucro  \n",
       "0  56.510999999999996  \n",
       "1  12.117599999999968  \n",
       "2  2.7278999999999964  \n",
       "3              19.791  \n",
       "4              4.5188  "
      ]
     },
     "execution_count": 6,
     "metadata": {},
     "output_type": "execute_result"
    }
   ],
   "source": [
    "# Realizando um top 5 dos dados\n",
    "\n",
    "df_fato.head()"
   ]
  },
  {
   "cell_type": "code",
   "execution_count": 7,
   "id": "5885bc8f",
   "metadata": {},
   "outputs": [
    {
     "name": "stdout",
     "output_type": "stream",
     "text": [
      "<class 'pandas.core.frame.DataFrame'>\n",
      "RangeIndex: 9994 entries, 0 to 9993\n",
      "Data columns (total 11 columns):\n",
      " #   Column          Non-Null Count  Dtype \n",
      "---  ------          --------------  ----- \n",
      " 0   sk_pedido       9994 non-null   object\n",
      " 1   sk_data_pedido  9994 non-null   int64 \n",
      " 2   sk_data_envio   9994 non-null   int64 \n",
      " 3   sk_modo_envio   9994 non-null   int64 \n",
      " 4   sk_cliente      9994 non-null   int64 \n",
      " 5   sk_vendedores   9994 non-null   int64 \n",
      " 6   sk_produto      9994 non-null   int64 \n",
      " 7   valor_venda     9994 non-null   object\n",
      " 8   quantidade      9994 non-null   object\n",
      " 9   desconto        9994 non-null   object\n",
      " 10  lucro           9994 non-null   object\n",
      "dtypes: int64(6), object(5)\n",
      "memory usage: 859.0+ KB\n"
     ]
    }
   ],
   "source": [
    "# Verificando os tipos das colunas\n",
    "\n",
    "df_fato.info()"
   ]
  },
  {
   "cell_type": "code",
   "execution_count": 8,
   "id": "175ef5f3",
   "metadata": {},
   "outputs": [
    {
     "name": "stdout",
     "output_type": "stream",
     "text": [
      "Limpando tabela dw.fato_vendas...\n",
      "Tabela dw.fato_vendas truncada com sucesso!\n"
     ]
    }
   ],
   "source": [
    "# Criando um truncate \n",
    "\n",
    "tabela = 'fato_vendas'\n",
    "schema = 'dw' \n",
    "\n",
    "try:\n",
    "    with engine.begin() as conn:\n",
    "        print(f'Limpando tabela {schema}.{tabela}...')\n",
    "        conn.execute(text(f'TRUNCATE TABLE {schema}.{tabela}'))\n",
    "        print(f'Tabela {schema}.{tabela} truncada com sucesso!')\n",
    "        \n",
    "except Exception as e:\n",
    "    print(f'Erro ao truncar a tabela {schema}.{tabela}: {e}')\n",
    "    print('Detalhes do erro:', str(e))"
   ]
  },
  {
   "cell_type": "code",
   "execution_count": 9,
   "id": "68d4c289",
   "metadata": {},
   "outputs": [],
   "source": [
    "# Importando os dados para a tabela\n",
    "\n",
    "with engine.begin() as conn:  \n",
    "    df_fato.to_sql(\n",
    "        \"fato_vendas\",      # nome da tabela\n",
    "        conn,               # conexão com o banco de dados\n",
    "        schema=\"dw\",        # schema onde a tabela será criada\n",
    "        if_exists=\"append\", # substitui a tabela se já existir (garante dados atualizados)\n",
    "        index=False,         # não cria coluna de índice do pandas\n",
    "        method=\"multi\",      #insere várias linhas por comando INSERT (melhor performance)\n",
    "        chunksize=5000       #envia os dados em blocos de 5000 linhas (controle de memória)\n",
    "    ) "
   ]
  },
  {
   "cell_type": "code",
   "execution_count": 10,
   "id": "9d912063",
   "metadata": {},
   "outputs": [
    {
     "name": "stdout",
     "output_type": "stream",
     "text": [
      "Total de registros na tabela: 9994\n"
     ]
    }
   ],
   "source": [
    "# Verificando a quantidade de linhas dentro do banco\n",
    "\n",
    "count = pd.read_sql(\"SELECT COUNT(*) as total_registros FROM dw.fato_vendas\", engine).iloc[0,0]\n",
    "print(f\"Total de registros na tabela: {count}\")"
   ]
  }
 ],
 "metadata": {
  "kernelspec": {
   "display_name": "Teste",
   "language": "python",
   "name": "python3"
  },
  "language_info": {
   "codemirror_mode": {
    "name": "ipython",
    "version": 3
   },
   "file_extension": ".py",
   "mimetype": "text/x-python",
   "name": "python",
   "nbconvert_exporter": "python",
   "pygments_lexer": "ipython3",
   "version": "3.12.12"
  }
 },
 "nbformat": 4,
 "nbformat_minor": 5
}
