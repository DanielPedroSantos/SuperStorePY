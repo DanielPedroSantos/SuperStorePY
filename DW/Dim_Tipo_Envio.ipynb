{
 "cells": [
  {
   "cell_type": "markdown",
   "id": "3b71dd9e",
   "metadata": {},
   "source": [
    "# Criando Dimensão Tipo de envio\n",
    "- scd 1"
   ]
  },
  {
   "cell_type": "code",
   "execution_count": 1,
   "id": "45f7a5b2",
   "metadata": {},
   "outputs": [],
   "source": [
    "import sys\n",
    "import os\n",
    "sys.path.append(os.path.abspath(os.path.join(os.getcwd(), '..')))\n"
   ]
  },
  {
   "cell_type": "code",
   "execution_count": 2,
   "id": "3947f786",
   "metadata": {},
   "outputs": [],
   "source": [
    "# Importando as bibliotecas\n",
    "import pandas as pd \n",
    "from sqlalchemy import text\n",
    "from sqlalchemy import create_engine\n",
    "from dotenv import load_dotenv\n",
    "from utils.acessobanco import acessobanco\n",
    "from datetime import datetime\n"
   ]
  },
  {
   "cell_type": "code",
   "execution_count": 3,
   "id": "4006c170",
   "metadata": {},
   "outputs": [
    {
     "data": {
      "text/plain": [
       "True"
      ]
     },
     "execution_count": 3,
     "metadata": {},
     "output_type": "execute_result"
    }
   ],
   "source": [
    "# Carrega as variáveis de ambiente do arquivo .env\n",
    "\n",
    "load_dotenv(dotenv_path=\"/home/danielpedro/Python/Projetos/SuperStorePY/Bancos/acessobanco.env\")\n"
   ]
  },
  {
   "cell_type": "code",
   "execution_count": 4,
   "id": "e65eaec4",
   "metadata": {},
   "outputs": [],
   "source": [
    "# Cria a conexão com o banco usando a função acessobanco()\n",
    "engine = acessobanco()"
   ]
  },
  {
   "cell_type": "code",
   "execution_count": 5,
   "id": "67550941",
   "metadata": {},
   "outputs": [],
   "source": [
    "# Criando a df puxando do banco\n",
    "df = pd.read_sql_table(\"orders\",engine, schema=\"stg\")"
   ]
  },
  {
   "cell_type": "code",
   "execution_count": 6,
   "id": "eb4c6cf8",
   "metadata": {},
   "outputs": [
    {
     "name": "stdout",
     "output_type": "stream",
     "text": [
      "<class 'pandas.core.frame.DataFrame'>\n",
      "RangeIndex: 9994 entries, 0 to 9993\n",
      "Data columns (total 21 columns):\n",
      " #   Column         Non-Null Count  Dtype \n",
      "---  ------         --------------  ----- \n",
      " 0   id             9994 non-null   object\n",
      " 1   id_pedido      9994 non-null   object\n",
      " 2   data_pedido    9994 non-null   object\n",
      " 3   data_envio     9994 non-null   object\n",
      " 4   modo_envio     9994 non-null   object\n",
      " 5   id_cliente     9994 non-null   object\n",
      " 6   nome_cliente   9994 non-null   object\n",
      " 7   segmento       9994 non-null   object\n",
      " 8   pais           9994 non-null   object\n",
      " 9   cidade         9994 non-null   object\n",
      " 10  estado         9994 non-null   object\n",
      " 11  ce             9994 non-null   object\n",
      " 12  regiao         9994 non-null   object\n",
      " 13  id_produto     9994 non-null   object\n",
      " 14  categoria      9994 non-null   object\n",
      " 15  sub_categoria  9994 non-null   object\n",
      " 16  nome_produto   9994 non-null   object\n",
      " 17  valor_venda    9994 non-null   object\n",
      " 18  quantidade     9994 non-null   object\n",
      " 19  desconto       9994 non-null   object\n",
      " 20  lucro          9994 non-null   object\n",
      "dtypes: object(21)\n",
      "memory usage: 1.6+ MB\n"
     ]
    }
   ],
   "source": [
    "# Verificando as colunas e excluindo os tipos\n",
    "df.info()"
   ]
  },
  {
   "cell_type": "code",
   "execution_count": 7,
   "id": "84be7dba",
   "metadata": {},
   "outputs": [],
   "source": [
    "# Criando df tipo envio\n",
    "df_TipoEnvio =  df[['modo_envio']]"
   ]
  },
  {
   "cell_type": "code",
   "execution_count": 8,
   "id": "bcb1515b",
   "metadata": {},
   "outputs": [
    {
     "data": {
      "text/plain": [
       "True     9990\n",
       "False       4\n",
       "Name: count, dtype: int64"
      ]
     },
     "execution_count": 8,
     "metadata": {},
     "output_type": "execute_result"
    }
   ],
   "source": [
    "# Verificar os dados duplicados\n",
    "df_TipoEnvio.duplicated().value_counts()"
   ]
  },
  {
   "cell_type": "code",
   "execution_count": 9,
   "id": "3bf7bd6e",
   "metadata": {},
   "outputs": [],
   "source": [
    "# Excluir os dados duplicados\n",
    "df_TipoEnvio = df_TipoEnvio.drop_duplicates(subset='modo_envio')"
   ]
  },
  {
   "cell_type": "code",
   "execution_count": 10,
   "id": "62733573",
   "metadata": {},
   "outputs": [
    {
     "data": {
      "text/plain": [
       "False    4\n",
       "Name: count, dtype: int64"
      ]
     },
     "execution_count": 10,
     "metadata": {},
     "output_type": "execute_result"
    }
   ],
   "source": [
    "# Verificando se tem duplicados\n",
    "df_TipoEnvio.duplicated().value_counts()"
   ]
  },
  {
   "cell_type": "code",
   "execution_count": 11,
   "id": "8595ed12",
   "metadata": {},
   "outputs": [
    {
     "data": {
      "text/html": [
       "<div>\n",
       "<style scoped>\n",
       "    .dataframe tbody tr th:only-of-type {\n",
       "        vertical-align: middle;\n",
       "    }\n",
       "\n",
       "    .dataframe tbody tr th {\n",
       "        vertical-align: top;\n",
       "    }\n",
       "\n",
       "    .dataframe thead th {\n",
       "        text-align: right;\n",
       "    }\n",
       "</style>\n",
       "<table border=\"1\" class=\"dataframe\">\n",
       "  <thead>\n",
       "    <tr style=\"text-align: right;\">\n",
       "      <th></th>\n",
       "      <th>modo_envio</th>\n",
       "    </tr>\n",
       "  </thead>\n",
       "  <tbody>\n",
       "    <tr>\n",
       "      <th>0</th>\n",
       "      <td>Standard Class</td>\n",
       "    </tr>\n",
       "    <tr>\n",
       "      <th>9</th>\n",
       "      <td>First Class</td>\n",
       "    </tr>\n",
       "    <tr>\n",
       "      <th>14</th>\n",
       "      <td>Second Class</td>\n",
       "    </tr>\n",
       "    <tr>\n",
       "      <th>38</th>\n",
       "      <td>Same Day</td>\n",
       "    </tr>\n",
       "  </tbody>\n",
       "</table>\n",
       "</div>"
      ],
      "text/plain": [
       "        modo_envio\n",
       "0   Standard Class\n",
       "9      First Class\n",
       "14    Second Class\n",
       "38        Same Day"
      ]
     },
     "execution_count": 11,
     "metadata": {},
     "output_type": "execute_result"
    }
   ],
   "source": [
    "# vizualizando a tabela\n",
    "df_TipoEnvio.head()"
   ]
  },
  {
   "cell_type": "code",
   "execution_count": 12,
   "id": "6c271af1",
   "metadata": {},
   "outputs": [],
   "source": [
    "# Criando um id para o modo de envio\n",
    "df_TipoEnvio['id_modo_envio'] = range(1,len(df_TipoEnvio) + 1)"
   ]
  },
  {
   "cell_type": "code",
   "execution_count": 13,
   "id": "e5a108ee",
   "metadata": {},
   "outputs": [],
   "source": [
    "#ajustando o posicionamento das colunas\n",
    "df_TipoEnvio = df_TipoEnvio[['id_modo_envio', 'modo_envio']]\n"
   ]
  },
  {
   "cell_type": "code",
   "execution_count": 14,
   "id": "46069e42",
   "metadata": {},
   "outputs": [
    {
     "name": "stdout",
     "output_type": "stream",
     "text": [
      "<class 'pandas.core.frame.DataFrame'>\n",
      "Index: 4 entries, 0 to 38\n",
      "Data columns (total 2 columns):\n",
      " #   Column         Non-Null Count  Dtype \n",
      "---  ------         --------------  ----- \n",
      " 0   id_modo_envio  4 non-null      int64 \n",
      " 1   modo_envio     4 non-null      object\n",
      "dtypes: int64(1), object(1)\n",
      "memory usage: 96.0+ bytes\n"
     ]
    }
   ],
   "source": [
    "# Verificando o tipo\n",
    "df_TipoEnvio.info()"
   ]
  },
  {
   "cell_type": "code",
   "execution_count": 15,
   "id": "21ff763c",
   "metadata": {},
   "outputs": [],
   "source": [
    "# Criando uma tabela temporaria\n",
    "\n",
    "with engine.begin() as conn:\n",
    "    df_TipoEnvio.to_sql(\n",
    "        \"tmp_dim_tipo_envio\",  # nome da tabela temporária no schema dw\n",
    "        conn,               # conexão com o banco de dados\n",
    "        schema=\"dw\",        # schema onde a tabela será criada\n",
    "        if_exists=\"replace\", # substitui a tabela se já existir (garante dados atualizados)\n",
    "        index=False,         # não cria coluna de índice do pandas\n",
    "        method=\"multi\",      # insere várias linhas por comando INSERT (melhor performance)\n",
    "        chunksize=5000       # envia os dados em blocos de 5000 linhas (controle de memória)\n",
    "    )\n",
    "\n"
   ]
  },
  {
   "cell_type": "code",
   "execution_count": 16,
   "id": "aea34599",
   "metadata": {},
   "outputs": [
    {
     "name": "stdout",
     "output_type": "stream",
     "text": [
      "Total de registros na tabela: 4\n"
     ]
    }
   ],
   "source": [
    "# para verificarmos quantas linhas subiram\n",
    "\n",
    "count = pd.read_sql(\"SELECT COUNT(*) as total_registros FROM dw.tmp_dim_tipo_envio\", engine).iloc[0,0]\n",
    "print(f\"Total de registros na tabela: {count}\")"
   ]
  },
  {
   "cell_type": "code",
   "execution_count": 17,
   "id": "53064d14",
   "metadata": {},
   "outputs": [
    {
     "name": "stdout",
     "output_type": "stream",
     "text": [
      "Linhas inseridas: 0\n"
     ]
    }
   ],
   "source": [
    "# Insere apenas novo metodos\n",
    "\n",
    "insert_sql = \"\"\"\n",
    "INSERT INTO dw.dim_metodo_envio_scd1 (id_modo_envio, modo_envio)\n",
    "SELECT t.id_modo_envio, t.modo_envio\n",
    "FROM dw.tmp_dim_tipo_envio AS t\n",
    "LEFT JOIN dw.dim_metodo_envio_scd1 AS d ON d.id_modo_envio = t.id_modo_envio\n",
    "WHERE d.id_modo_envio IS NULL;\n",
    "\"\"\"\n",
    "\n",
    "with engine.begin() as conn:\n",
    "    result = conn.execute(text(insert_sql))\n",
    "\n",
    "print(f\"Linhas inseridas: {result.rowcount}\")"
   ]
  }
 ],
 "metadata": {
  "kernelspec": {
   "display_name": "Teste",
   "language": "python",
   "name": "python3"
  },
  "language_info": {
   "codemirror_mode": {
    "name": "ipython",
    "version": 3
   },
   "file_extension": ".py",
   "mimetype": "text/x-python",
   "name": "python",
   "nbconvert_exporter": "python",
   "pygments_lexer": "ipython3",
   "version": "3.12.11"
  }
 },
 "nbformat": 4,
 "nbformat_minor": 5
}
