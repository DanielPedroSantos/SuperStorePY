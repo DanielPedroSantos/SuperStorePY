{
 "cells": [
  {
   "cell_type": "markdown",
   "id": "45e3740f",
   "metadata": {},
   "source": [
    "# Desenvolvendo Dimensão Vendedores \n",
    "\n",
    "- scd 1"
   ]
  },
  {
   "cell_type": "code",
   "execution_count": 2,
   "id": "9740455c",
   "metadata": {},
   "outputs": [],
   "source": [
    "import sys\n",
    "import os\n",
    "sys.path.append(os.path.abspath(os.path.join(os.getcwd(), '..')))\n"
   ]
  },
  {
   "cell_type": "code",
   "execution_count": 3,
   "id": "0ae7b00c",
   "metadata": {},
   "outputs": [],
   "source": [
    " # Importando dados \n",
    "\n",
    "import pandas as pd \n",
    "from sqlalchemy import text\n",
    "from sqlalchemy import create_engine\n",
    "from dotenv import load_dotenv\n",
    "from utils.acessobanco import acessobanco"
   ]
  },
  {
   "cell_type": "code",
   "execution_count": 4,
   "id": "f73a9452",
   "metadata": {},
   "outputs": [
    {
     "data": {
      "text/plain": [
       "True"
      ]
     },
     "execution_count": 4,
     "metadata": {},
     "output_type": "execute_result"
    }
   ],
   "source": [
    "# Carrega as variáveis de ambiente do arquivo .env\n",
    "\n",
    "load_dotenv(dotenv_path=\"/home/danielpedro/Python/Projetos/SuperStorePY/Bancos/acessobanco.env\")\n"
   ]
  },
  {
   "cell_type": "code",
   "execution_count": 5,
   "id": "3df85062",
   "metadata": {},
   "outputs": [],
   "source": [
    "# Cria a conexão com o banco usando a função acessobanco()\n",
    "\n",
    "engine = acessobanco()"
   ]
  },
  {
   "cell_type": "code",
   "execution_count": 6,
   "id": "0e193911",
   "metadata": {},
   "outputs": [],
   "source": [
    "# Criando a df puxando do banco\n",
    "\n",
    "df = pd.read_sql_table(\"vendedores\",engine, schema=\"stg\")"
   ]
  },
  {
   "cell_type": "code",
   "execution_count": 7,
   "id": "8bd2b41a",
   "metadata": {},
   "outputs": [
    {
     "name": "stdout",
     "output_type": "stream",
     "text": [
      "<class 'pandas.core.frame.DataFrame'>\n",
      "RangeIndex: 4 entries, 0 to 3\n",
      "Data columns (total 2 columns):\n",
      " #   Column         Non-Null Count  Dtype \n",
      "---  ------         --------------  ----- \n",
      " 0   nome_vendedor  4 non-null      object\n",
      " 1   regiao         4 non-null      object\n",
      "dtypes: object(2)\n",
      "memory usage: 196.0+ bytes\n"
     ]
    }
   ],
   "source": [
    "# Verificando os dados\n",
    "\n",
    "df.info()"
   ]
  },
  {
   "cell_type": "code",
   "execution_count": 8,
   "id": "d0689ec8",
   "metadata": {},
   "outputs": [],
   "source": [
    "# Gravando dataframe vendedores\n",
    "\n",
    "df_vendedores = df"
   ]
  },
  {
   "cell_type": "code",
   "execution_count": 9,
   "id": "2b043679",
   "metadata": {},
   "outputs": [
    {
     "data": {
      "text/html": [
       "<div>\n",
       "<style scoped>\n",
       "    .dataframe tbody tr th:only-of-type {\n",
       "        vertical-align: middle;\n",
       "    }\n",
       "\n",
       "    .dataframe tbody tr th {\n",
       "        vertical-align: top;\n",
       "    }\n",
       "\n",
       "    .dataframe thead th {\n",
       "        text-align: right;\n",
       "    }\n",
       "</style>\n",
       "<table border=\"1\" class=\"dataframe\">\n",
       "  <thead>\n",
       "    <tr style=\"text-align: right;\">\n",
       "      <th></th>\n",
       "      <th>nome_vendedor</th>\n",
       "      <th>regiao</th>\n",
       "    </tr>\n",
       "  </thead>\n",
       "  <tbody>\n",
       "    <tr>\n",
       "      <th>0</th>\n",
       "      <td>Anna Andreadi</td>\n",
       "      <td>West</td>\n",
       "    </tr>\n",
       "    <tr>\n",
       "      <th>1</th>\n",
       "      <td>Chuck Magee</td>\n",
       "      <td>East</td>\n",
       "    </tr>\n",
       "    <tr>\n",
       "      <th>2</th>\n",
       "      <td>Kelly Williams</td>\n",
       "      <td>Central</td>\n",
       "    </tr>\n",
       "    <tr>\n",
       "      <th>3</th>\n",
       "      <td>Cassandra Brandow</td>\n",
       "      <td>South</td>\n",
       "    </tr>\n",
       "  </tbody>\n",
       "</table>\n",
       "</div>"
      ],
      "text/plain": [
       "       nome_vendedor   regiao\n",
       "0      Anna Andreadi     West\n",
       "1        Chuck Magee     East\n",
       "2     Kelly Williams  Central\n",
       "3  Cassandra Brandow    South"
      ]
     },
     "execution_count": 9,
     "metadata": {},
     "output_type": "execute_result"
    }
   ],
   "source": [
    "# visualizando os dados\n",
    "\n",
    "df_vendedores.head()"
   ]
  },
  {
   "cell_type": "code",
   "execution_count": 10,
   "id": "ecd73568",
   "metadata": {},
   "outputs": [],
   "source": [
    "# Criando um id para o modo de envio\n",
    "df_vendedores['id_vendedor'] = range(1,len(df_vendedores) + 1)"
   ]
  },
  {
   "cell_type": "code",
   "execution_count": 11,
   "id": "50d7af70",
   "metadata": {},
   "outputs": [
    {
     "data": {
      "text/html": [
       "<div>\n",
       "<style scoped>\n",
       "    .dataframe tbody tr th:only-of-type {\n",
       "        vertical-align: middle;\n",
       "    }\n",
       "\n",
       "    .dataframe tbody tr th {\n",
       "        vertical-align: top;\n",
       "    }\n",
       "\n",
       "    .dataframe thead th {\n",
       "        text-align: right;\n",
       "    }\n",
       "</style>\n",
       "<table border=\"1\" class=\"dataframe\">\n",
       "  <thead>\n",
       "    <tr style=\"text-align: right;\">\n",
       "      <th></th>\n",
       "      <th>nome_vendedor</th>\n",
       "      <th>regiao</th>\n",
       "      <th>id_vendedor</th>\n",
       "    </tr>\n",
       "  </thead>\n",
       "  <tbody>\n",
       "    <tr>\n",
       "      <th>0</th>\n",
       "      <td>Anna Andreadi</td>\n",
       "      <td>West</td>\n",
       "      <td>1</td>\n",
       "    </tr>\n",
       "    <tr>\n",
       "      <th>1</th>\n",
       "      <td>Chuck Magee</td>\n",
       "      <td>East</td>\n",
       "      <td>2</td>\n",
       "    </tr>\n",
       "    <tr>\n",
       "      <th>2</th>\n",
       "      <td>Kelly Williams</td>\n",
       "      <td>Central</td>\n",
       "      <td>3</td>\n",
       "    </tr>\n",
       "    <tr>\n",
       "      <th>3</th>\n",
       "      <td>Cassandra Brandow</td>\n",
       "      <td>South</td>\n",
       "      <td>4</td>\n",
       "    </tr>\n",
       "  </tbody>\n",
       "</table>\n",
       "</div>"
      ],
      "text/plain": [
       "       nome_vendedor   regiao  id_vendedor\n",
       "0      Anna Andreadi     West            1\n",
       "1        Chuck Magee     East            2\n",
       "2     Kelly Williams  Central            3\n",
       "3  Cassandra Brandow    South            4"
      ]
     },
     "execution_count": 11,
     "metadata": {},
     "output_type": "execute_result"
    }
   ],
   "source": [
    "# Conferindo a implementação os id\n",
    "\n",
    "df_vendedores"
   ]
  },
  {
   "cell_type": "code",
   "execution_count": 12,
   "id": "6d81e4d2",
   "metadata": {},
   "outputs": [],
   "source": [
    "# Organizando ordens das tabelas \n",
    "\n",
    "df_venedores = df_vendedores[['id_vendedor','nome_vendedor','regiao']]"
   ]
  },
  {
   "cell_type": "code",
   "execution_count": 13,
   "id": "9f78ae83",
   "metadata": {},
   "outputs": [
    {
     "data": {
      "text/html": [
       "<div>\n",
       "<style scoped>\n",
       "    .dataframe tbody tr th:only-of-type {\n",
       "        vertical-align: middle;\n",
       "    }\n",
       "\n",
       "    .dataframe tbody tr th {\n",
       "        vertical-align: top;\n",
       "    }\n",
       "\n",
       "    .dataframe thead th {\n",
       "        text-align: right;\n",
       "    }\n",
       "</style>\n",
       "<table border=\"1\" class=\"dataframe\">\n",
       "  <thead>\n",
       "    <tr style=\"text-align: right;\">\n",
       "      <th></th>\n",
       "      <th>nome_vendedor</th>\n",
       "      <th>regiao</th>\n",
       "      <th>id_vendedor</th>\n",
       "    </tr>\n",
       "  </thead>\n",
       "  <tbody>\n",
       "    <tr>\n",
       "      <th>0</th>\n",
       "      <td>Anna Andreadi</td>\n",
       "      <td>West</td>\n",
       "      <td>1</td>\n",
       "    </tr>\n",
       "    <tr>\n",
       "      <th>1</th>\n",
       "      <td>Chuck Magee</td>\n",
       "      <td>East</td>\n",
       "      <td>2</td>\n",
       "    </tr>\n",
       "    <tr>\n",
       "      <th>2</th>\n",
       "      <td>Kelly Williams</td>\n",
       "      <td>Central</td>\n",
       "      <td>3</td>\n",
       "    </tr>\n",
       "    <tr>\n",
       "      <th>3</th>\n",
       "      <td>Cassandra Brandow</td>\n",
       "      <td>South</td>\n",
       "      <td>4</td>\n",
       "    </tr>\n",
       "  </tbody>\n",
       "</table>\n",
       "</div>"
      ],
      "text/plain": [
       "       nome_vendedor   regiao  id_vendedor\n",
       "0      Anna Andreadi     West            1\n",
       "1        Chuck Magee     East            2\n",
       "2     Kelly Williams  Central            3\n",
       "3  Cassandra Brandow    South            4"
      ]
     },
     "execution_count": 13,
     "metadata": {},
     "output_type": "execute_result"
    }
   ],
   "source": [
    "# visualizando os dados\n",
    "\n",
    "df_vendedores.head()"
   ]
  },
  {
   "cell_type": "code",
   "execution_count": 14,
   "id": "3556070e",
   "metadata": {},
   "outputs": [],
   "source": [
    "# Salvando os dados em uma tabela temp para aplicar o scd1\n",
    "\n",
    "with engine.begin() as conn:\n",
    "    df_vendedores.to_sql(\n",
    "        \"tmp_dim_vendedores\",  # nome da tabela temporária no schema dw\n",
    "        conn,               # conexão com o banco de dados\n",
    "        schema=\"dw\",        # schema onde a tabela será criada\n",
    "        if_exists=\"replace\", # substitui a tabela se já existir (garante dados atualizados)\n",
    "        index=False,         # não cria coluna de índice do pandas\n",
    "        method=\"multi\",      # insere várias linhas por comando INSERT (melhor performance)\n",
    "        chunksize=5000       # envia os dados em blocos de 5000 linhas (controle de memória)\n",
    "    )\n",
    "\n"
   ]
  },
  {
   "cell_type": "code",
   "execution_count": 15,
   "id": "98de5ff7",
   "metadata": {},
   "outputs": [
    {
     "name": "stdout",
     "output_type": "stream",
     "text": [
      "Total de registros na tabela: 4\n"
     ]
    }
   ],
   "source": [
    "# Para verificarmos quantas linhas subiram\n",
    "\n",
    "count = pd.read_sql(\"SELECT COUNT(*) as total_registros FROM dw.tmp_dim_vendedores\", engine).iloc[0,0]\n",
    "print(f\"Total de registros na tabela: {count}\")"
   ]
  },
  {
   "cell_type": "code",
   "execution_count": 16,
   "id": "5fa91afc",
   "metadata": {},
   "outputs": [
    {
     "name": "stdout",
     "output_type": "stream",
     "text": [
      "Linhas inseridas: 0\n"
     ]
    }
   ],
   "source": [
    "# Insere apenas novo metodos\n",
    "\n",
    "insert_sql = \"\"\"\n",
    "INSERT INTO dw.dim_vendedores_scd1 (id_vendedor, nome_vendedor,regiao)\n",
    "SELECT t.id_vendedor, t.nome_vendedor, t.regiao\n",
    "FROM dw.tmp_dim_vendedores AS t\n",
    "LEFT JOIN dw.dim_vendedores_scd1 AS d ON d.id_vendedor = t.id_vendedor\n",
    "WHERE d.id_vendedor IS NULL;\n",
    "\"\"\"\n",
    "\n",
    "with engine.begin() as conn:\n",
    "    result = conn.execute(text(insert_sql))\n",
    "\n",
    "print(f\"Linhas inseridas: {result.rowcount}\")"
   ]
  }
 ],
 "metadata": {
  "kernelspec": {
   "display_name": "Teste",
   "language": "python",
   "name": "python3"
  },
  "language_info": {
   "codemirror_mode": {
    "name": "ipython",
    "version": 3
   },
   "file_extension": ".py",
   "mimetype": "text/x-python",
   "name": "python",
   "nbconvert_exporter": "python",
   "pygments_lexer": "ipython3",
   "version": "3.12.12"
  }
 },
 "nbformat": 4,
 "nbformat_minor": 5
}
