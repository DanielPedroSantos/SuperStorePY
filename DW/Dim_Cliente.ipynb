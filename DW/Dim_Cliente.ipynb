{
 "cells": [
  {
   "cell_type": "markdown",
   "id": "68c5f3ee",
   "metadata": {},
   "source": [
    "# Desenvolvendo a Dimensão Cliente \n",
    "\n",
    "scd1"
   ]
  },
  {
   "cell_type": "code",
   "execution_count": 1,
   "id": "fdfa1af3",
   "metadata": {},
   "outputs": [],
   "source": [
    "import sys\n",
    "import os\n",
    "sys.path.append(os.path.abspath(os.path.join(os.getcwd(), '..')))"
   ]
  },
  {
   "cell_type": "code",
   "execution_count": 3,
   "id": "1f5fa19b",
   "metadata": {},
   "outputs": [],
   "source": [
    "# importando \n",
    "\n",
    "import pandas as pd \n",
    "from sqlalchemy import text\n",
    "from sqlalchemy import create_engine\n",
    "from dotenv import load_dotenv\n",
    "from utils.acessobanco import acessobanco"
   ]
  },
  {
   "cell_type": "code",
   "execution_count": 4,
   "id": "b05ad154",
   "metadata": {},
   "outputs": [
    {
     "data": {
      "text/plain": [
       "True"
      ]
     },
     "execution_count": 4,
     "metadata": {},
     "output_type": "execute_result"
    }
   ],
   "source": [
    "#Carrega as variáveis de ambiente do arquivo .env\n",
    "\n",
    "load_dotenv(dotenv_path=\"/home/danielpedro/Python/Projetos/SuperStorePY/Bancos/acessobanco.env\")\n"
   ]
  },
  {
   "cell_type": "code",
   "execution_count": 6,
   "id": "c7c70155",
   "metadata": {},
   "outputs": [],
   "source": [
    "# Cria a conexão com o banco usando a função acessobanco()\n",
    "\n",
    "engine = acessobanco()"
   ]
  },
  {
   "cell_type": "code",
   "execution_count": 7,
   "id": "018a200f",
   "metadata": {},
   "outputs": [],
   "source": [
    "# Criando a df puxando do banco\n",
    "\n",
    "df = pd.read_sql_table(\"orders\",engine, schema=\"stg\")"
   ]
  },
  {
   "cell_type": "code",
   "execution_count": 8,
   "id": "1c5366b1",
   "metadata": {},
   "outputs": [
    {
     "name": "stdout",
     "output_type": "stream",
     "text": [
      "<class 'pandas.core.frame.DataFrame'>\n",
      "RangeIndex: 9994 entries, 0 to 9993\n",
      "Data columns (total 21 columns):\n",
      " #   Column         Non-Null Count  Dtype \n",
      "---  ------         --------------  ----- \n",
      " 0   id             9994 non-null   object\n",
      " 1   id_pedido      9994 non-null   object\n",
      " 2   data_pedido    9994 non-null   object\n",
      " 3   data_envio     9994 non-null   object\n",
      " 4   modo_envio     9994 non-null   object\n",
      " 5   id_cliente     9994 non-null   object\n",
      " 6   nome_cliente   9994 non-null   object\n",
      " 7   segmento       9994 non-null   object\n",
      " 8   pais           9994 non-null   object\n",
      " 9   cidade         9994 non-null   object\n",
      " 10  estado         9994 non-null   object\n",
      " 11  ce             9994 non-null   object\n",
      " 12  regiao         9994 non-null   object\n",
      " 13  id_produto     9994 non-null   object\n",
      " 14  categoria      9994 non-null   object\n",
      " 15  sub_categoria  9994 non-null   object\n",
      " 16  nome_produto   9994 non-null   object\n",
      " 17  valor_venda    9994 non-null   object\n",
      " 18  quantidade     9994 non-null   object\n",
      " 19  desconto       9994 non-null   object\n",
      " 20  lucro          9994 non-null   object\n",
      "dtypes: object(21)\n",
      "memory usage: 1.6+ MB\n"
     ]
    }
   ],
   "source": [
    "# Verificando os tipos dos dados\n",
    "\n",
    "df.info()"
   ]
  },
  {
   "cell_type": "code",
   "execution_count": 9,
   "id": "05bb4d0e",
   "metadata": {},
   "outputs": [],
   "source": [
    "# Definido as colunas de dim cliente\n",
    "\n",
    "df_DimCliente = df[['id_cliente','nome_cliente','segmento','pais','cidade','regiao','ce']]"
   ]
  },
  {
   "cell_type": "code",
   "execution_count": 10,
   "id": "03fd2ed3",
   "metadata": {},
   "outputs": [
    {
     "data": {
      "text/plain": [
       "True     5084\n",
       "False    4910\n",
       "Name: count, dtype: int64"
      ]
     },
     "execution_count": 10,
     "metadata": {},
     "output_type": "execute_result"
    }
   ],
   "source": [
    "# Aqui podemos perceber que a tabela contem duplicados pois estou puxando apenas as colunas da\n",
    "# fato e não realizando um select destinct\n",
    "\n",
    "df_DimCliente.duplicated().value_counts()"
   ]
  },
  {
   "cell_type": "code",
   "execution_count": 11,
   "id": "92da8645",
   "metadata": {},
   "outputs": [],
   "source": [
    "# Desta forma consigo limpar os dados duplicados usando como referencia id_cliente\n",
    "# O subset=['Id_Cliente'], ele olha só essa coluna para decidir o que é duplicado.\n",
    "\n",
    "df_DimCliente = df_DimCliente.drop_duplicates(subset=['id_cliente'])"
   ]
  },
  {
   "cell_type": "code",
   "execution_count": 12,
   "id": "bd26d9cb",
   "metadata": {},
   "outputs": [
    {
     "data": {
      "text/plain": [
       "False    793\n",
       "Name: count, dtype: int64"
      ]
     },
     "execution_count": 12,
     "metadata": {},
     "output_type": "execute_result"
    }
   ],
   "source": [
    "# Realizando uma verificação de duplicados\n",
    " \n",
    "df_DimCliente.duplicated().value_counts()"
   ]
  },
  {
   "cell_type": "code",
   "execution_count": 13,
   "id": "3db76e1f",
   "metadata": {},
   "outputs": [
    {
     "data": {
      "text/html": [
       "<div>\n",
       "<style scoped>\n",
       "    .dataframe tbody tr th:only-of-type {\n",
       "        vertical-align: middle;\n",
       "    }\n",
       "\n",
       "    .dataframe tbody tr th {\n",
       "        vertical-align: top;\n",
       "    }\n",
       "\n",
       "    .dataframe thead th {\n",
       "        text-align: right;\n",
       "    }\n",
       "</style>\n",
       "<table border=\"1\" class=\"dataframe\">\n",
       "  <thead>\n",
       "    <tr style=\"text-align: right;\">\n",
       "      <th></th>\n",
       "      <th>id_cliente</th>\n",
       "      <th>nome_cliente</th>\n",
       "      <th>segmento</th>\n",
       "      <th>pais</th>\n",
       "      <th>cidade</th>\n",
       "      <th>regiao</th>\n",
       "      <th>ce</th>\n",
       "    </tr>\n",
       "  </thead>\n",
       "  <tbody>\n",
       "    <tr>\n",
       "      <th>3938</th>\n",
       "      <td>AB-10015</td>\n",
       "      <td>Aaron Bergman</td>\n",
       "      <td>Consumer</td>\n",
       "      <td>United States</td>\n",
       "      <td>Oklahoma City</td>\n",
       "      <td>Central</td>\n",
       "      <td>73120</td>\n",
       "    </tr>\n",
       "    <tr>\n",
       "      <th>157</th>\n",
       "      <td>AH-10030</td>\n",
       "      <td>Aaron Hawkins</td>\n",
       "      <td>Corporate</td>\n",
       "      <td>United States</td>\n",
       "      <td>Philadelphia</td>\n",
       "      <td>East</td>\n",
       "      <td>19134</td>\n",
       "    </tr>\n",
       "    <tr>\n",
       "      <th>1177</th>\n",
       "      <td>AS-10045</td>\n",
       "      <td>Aaron Smayling</td>\n",
       "      <td>Corporate</td>\n",
       "      <td>United States</td>\n",
       "      <td>Pasadena</td>\n",
       "      <td>West</td>\n",
       "      <td>91104</td>\n",
       "    </tr>\n",
       "    <tr>\n",
       "      <th>829</th>\n",
       "      <td>AB-10060</td>\n",
       "      <td>Adam Bellavance</td>\n",
       "      <td>Home Office</td>\n",
       "      <td>United States</td>\n",
       "      <td>Seattle</td>\n",
       "      <td>West</td>\n",
       "      <td>98105</td>\n",
       "    </tr>\n",
       "    <tr>\n",
       "      <th>509</th>\n",
       "      <td>AH-10075</td>\n",
       "      <td>Adam Hart</td>\n",
       "      <td>Corporate</td>\n",
       "      <td>United States</td>\n",
       "      <td>Atlanta</td>\n",
       "      <td>South</td>\n",
       "      <td>30318</td>\n",
       "    </tr>\n",
       "    <tr>\n",
       "      <th>398</th>\n",
       "      <td>AS-10090</td>\n",
       "      <td>Adam Shillingsburg</td>\n",
       "      <td>Consumer</td>\n",
       "      <td>United States</td>\n",
       "      <td>Charlottesville</td>\n",
       "      <td>South</td>\n",
       "      <td>22901</td>\n",
       "    </tr>\n",
       "    <tr>\n",
       "      <th>619</th>\n",
       "      <td>AB-10105</td>\n",
       "      <td>Adrian Barton</td>\n",
       "      <td>Consumer</td>\n",
       "      <td>United States</td>\n",
       "      <td>Henderson</td>\n",
       "      <td>South</td>\n",
       "      <td>42420</td>\n",
       "    </tr>\n",
       "    <tr>\n",
       "      <th>922</th>\n",
       "      <td>AH-10120</td>\n",
       "      <td>Adrian Hane</td>\n",
       "      <td>Home Office</td>\n",
       "      <td>United States</td>\n",
       "      <td>Dallas</td>\n",
       "      <td>Central</td>\n",
       "      <td>75217</td>\n",
       "    </tr>\n",
       "    <tr>\n",
       "      <th>610</th>\n",
       "      <td>AS-10135</td>\n",
       "      <td>Adrian Shami</td>\n",
       "      <td>Home Office</td>\n",
       "      <td>United States</td>\n",
       "      <td>New York City</td>\n",
       "      <td>East</td>\n",
       "      <td>10035</td>\n",
       "    </tr>\n",
       "    <tr>\n",
       "      <th>613</th>\n",
       "      <td>AB-10150</td>\n",
       "      <td>Aimee Bixby</td>\n",
       "      <td>Consumer</td>\n",
       "      <td>United States</td>\n",
       "      <td>Carrollton</td>\n",
       "      <td>Central</td>\n",
       "      <td>75007</td>\n",
       "    </tr>\n",
       "  </tbody>\n",
       "</table>\n",
       "</div>"
      ],
      "text/plain": [
       "     id_cliente        nome_cliente     segmento           pais  \\\n",
       "3938   AB-10015       Aaron Bergman     Consumer  United States   \n",
       "157    AH-10030       Aaron Hawkins    Corporate  United States   \n",
       "1177   AS-10045      Aaron Smayling    Corporate  United States   \n",
       "829    AB-10060     Adam Bellavance  Home Office  United States   \n",
       "509    AH-10075           Adam Hart    Corporate  United States   \n",
       "398    AS-10090  Adam Shillingsburg     Consumer  United States   \n",
       "619    AB-10105       Adrian Barton     Consumer  United States   \n",
       "922    AH-10120         Adrian Hane  Home Office  United States   \n",
       "610    AS-10135        Adrian Shami  Home Office  United States   \n",
       "613    AB-10150         Aimee Bixby     Consumer  United States   \n",
       "\n",
       "               cidade   regiao     ce  \n",
       "3938    Oklahoma City  Central  73120  \n",
       "157      Philadelphia     East  19134  \n",
       "1177         Pasadena     West  91104  \n",
       "829           Seattle     West  98105  \n",
       "509           Atlanta    South  30318  \n",
       "398   Charlottesville    South  22901  \n",
       "619         Henderson    South  42420  \n",
       "922            Dallas  Central  75217  \n",
       "610     New York City     East  10035  \n",
       "613        Carrollton  Central  75007  "
      ]
     },
     "execution_count": 13,
     "metadata": {},
     "output_type": "execute_result"
    }
   ],
   "source": [
    "# Ordenando os dados por 'nome_cliente'\n",
    "\n",
    "df_DimCliente =  df_DimCliente.sort_values(by=['nome_cliente'], ascending=True)\n",
    "df_DimCliente.head(10)"
   ]
  },
  {
   "cell_type": "code",
   "execution_count": 14,
   "id": "6e44b08d",
   "metadata": {},
   "outputs": [],
   "source": [
    "# Inserindo um valor para testes\n",
    "#novo_cliente = {\n",
    "#    \"id_cliente\": 999,\n",
    "#    \"nome_cliente\": \"Daniel Pedro\",\n",
    "#    \"segmento\": \"Varejo\",\n",
    "#    \"pais\": \"Brasil\",\n",
    "#    \"cidade\": \"Paulista\",\n",
    "#    \"regiao\": \"Nordeste\",\n",
    "#    \"ce\": \"53400000\"\n",
    "#}\n"
   ]
  },
  {
   "cell_type": "code",
   "execution_count": 15,
   "id": "a217dc5e",
   "metadata": {},
   "outputs": [],
   "source": [
    "# df_DimCliente = pd.concat([df_DimCliente, pd.DataFrame([novo_cliente])], ignore_index=True)"
   ]
  },
  {
   "cell_type": "code",
   "execution_count": 16,
   "id": "1599a359",
   "metadata": {},
   "outputs": [],
   "source": [
    "# Criando uma tabela temporaria para aplicar o scd1\n",
    "\n",
    "with engine.begin() as conn:\n",
    "    df_DimCliente.to_sql(\n",
    "        \"tmp_dim_cliente\",  # nome da tabela temporária no schema dw\n",
    "        conn,               # conexão com o banco de dados\n",
    "        schema=\"dw\",        # schema onde a tabela será criada\n",
    "        if_exists=\"replace\", # substitui a tabela se já existir (garante dados atualizados)\n",
    "        index=False,         # não cria coluna de índice do pandas\n",
    "        method=\"multi\",      # insere várias linhas por comando INSERT (melhor performance)\n",
    "        chunksize=5000       # envia os dados em blocos de 5000 linhas (controle de memória)\n",
    "    )\n",
    "\n"
   ]
  },
  {
   "cell_type": "code",
   "execution_count": 17,
   "id": "8713e4aa",
   "metadata": {},
   "outputs": [
    {
     "name": "stdout",
     "output_type": "stream",
     "text": [
      "Total de registros na tabela: 793\n"
     ]
    }
   ],
   "source": [
    "# Verificando a quantidade de colunas que subiram no temp\n",
    "\n",
    "count = pd.read_sql(\"SELECT COUNT(*) as total_registros FROM dw.tmp_dim_cliente\", engine).iloc[0,0]\n",
    "print(f\"Total de registros na tabela: {count}\")"
   ]
  },
  {
   "cell_type": "code",
   "execution_count": 18,
   "id": "6c170954",
   "metadata": {},
   "outputs": [],
   "source": [
    "# Atualiza registros existentes em batch com base em id_cliente\n",
    "\n",
    "update_sql = \"\"\"\n",
    "UPDATE dw.dim_cliente_scd1 AS d\n",
    "SET \n",
    "    nome_cliente = t.nome_cliente,\n",
    "    segmento = t.segmento,\n",
    "    pais = t.pais,\n",
    "    cidade = t.cidade,\n",
    "    regiao = t.regiao,\n",
    "    ce = t.ce\n",
    "FROM dw.tmp_dim_cliente AS t\n",
    "WHERE d.id_cliente = t.id_cliente\n",
    "  AND (\n",
    "        d.nome_cliente IS DISTINCT FROM t.nome_cliente OR\n",
    "        d.segmento IS DISTINCT FROM t.segmento OR\n",
    "        d.pais IS DISTINCT FROM t.pais OR\n",
    "        d.cidade IS DISTINCT FROM t.cidade OR\n",
    "        d.regiao IS DISTINCT FROM t.regiao OR\n",
    "        d.ce IS DISTINCT FROM t.ce\n",
    "      );\n",
    "\"\"\"\n",
    "\n",
    "with engine.begin() as conn:\n",
    "    conn.execute(text(update_sql))\n"
   ]
  },
  {
   "cell_type": "code",
   "execution_count": 19,
   "id": "770f86f0",
   "metadata": {},
   "outputs": [
    {
     "name": "stdout",
     "output_type": "stream",
     "text": [
      "Linhas inseridas: 0\n"
     ]
    }
   ],
   "source": [
    "# Insere apenas clientes novos\n",
    "\n",
    "insert_sql = \"\"\"\n",
    "INSERT INTO dw.dim_cliente_scd1 (id_cliente, nome_cliente, segmento, pais, cidade, regiao, ce)\n",
    "SELECT t.id_cliente, t.nome_cliente, t.segmento, t.pais, t.cidade, t.regiao, t.ce\n",
    "FROM dw.tmp_dim_cliente AS t\n",
    "LEFT JOIN dw.dim_cliente_scd1 AS d ON d.id_cliente = t.id_cliente\n",
    "WHERE d.id_cliente IS NULL;\n",
    "\"\"\"\n",
    "\n",
    "with engine.begin() as conn:\n",
    "    result = conn.execute(text(insert_sql))\n",
    "\n",
    "print(f\"Linhas inseridas: {result.rowcount}\")"
   ]
  }
 ],
 "metadata": {
  "kernelspec": {
   "display_name": "Teste",
   "language": "python",
   "name": "python3"
  },
  "language_info": {
   "codemirror_mode": {
    "name": "ipython",
    "version": 3
   },
   "file_extension": ".py",
   "mimetype": "text/x-python",
   "name": "python",
   "nbconvert_exporter": "python",
   "pygments_lexer": "ipython3",
   "version": "3.12.12"
  }
 },
 "nbformat": 4,
 "nbformat_minor": 5
}
