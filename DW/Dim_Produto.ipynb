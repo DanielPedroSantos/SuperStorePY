{
 "cells": [
  {
   "cell_type": "markdown",
   "id": "b73c9697",
   "metadata": {},
   "source": [
    "# Desenvolvendo a Dimensão Produto com \n",
    "- scd2\n"
   ]
  },
  {
   "cell_type": "code",
   "execution_count": 4,
   "id": "705bc0e7",
   "metadata": {},
   "outputs": [],
   "source": [
    "import sys\n",
    "import os\n",
    "sys.path.append(os.path.abspath(os.path.join(os.getcwd(), '..')))\n"
   ]
  },
  {
   "cell_type": "code",
   "execution_count": 18,
   "id": "735117a2",
   "metadata": {},
   "outputs": [],
   "source": [
    "# Importando dados\n",
    "\n",
    "# importando \n",
    "\n",
    "import pandas as pd \n",
    "from datetime import datetime\n",
    "from sqlalchemy import text\n",
    "from sqlalchemy import create_engine\n",
    "from dotenv import load_dotenv\n",
    "from utils.acessobanco import acessobanco"
   ]
  },
  {
   "cell_type": "code",
   "execution_count": 19,
   "id": "a3a0362b",
   "metadata": {},
   "outputs": [
    {
     "data": {
      "text/plain": [
       "True"
      ]
     },
     "execution_count": 19,
     "metadata": {},
     "output_type": "execute_result"
    }
   ],
   "source": [
    "# Cria a conexão com o banco usando a função acessobanco()\n",
    "load_dotenv(dotenv_path=\"/home/danielpedro/Python/Projetos/SuperStorePY/Bancos/acessobanco.env\")\n"
   ]
  },
  {
   "cell_type": "code",
   "execution_count": 20,
   "id": "5804f5ef",
   "metadata": {},
   "outputs": [],
   "source": [
    "# Cria a conexão com o banco usando a função acessobanco()\n",
    "engine = acessobanco()"
   ]
  },
  {
   "cell_type": "code",
   "execution_count": 21,
   "id": "c49b5284",
   "metadata": {},
   "outputs": [],
   "source": [
    "# Criando a df puxando do banco\n",
    "df = pd.read_sql_table(\"orders\",engine, schema=\"stg\")"
   ]
  },
  {
   "cell_type": "code",
   "execution_count": 22,
   "id": "05543331",
   "metadata": {},
   "outputs": [
    {
     "name": "stdout",
     "output_type": "stream",
     "text": [
      "<class 'pandas.core.frame.DataFrame'>\n",
      "RangeIndex: 9994 entries, 0 to 9993\n",
      "Data columns (total 21 columns):\n",
      " #   Column         Non-Null Count  Dtype \n",
      "---  ------         --------------  ----- \n",
      " 0   id             9994 non-null   object\n",
      " 1   id_pedido      9994 non-null   object\n",
      " 2   data_pedido    9994 non-null   object\n",
      " 3   data_envio     9994 non-null   object\n",
      " 4   modo_envio     9994 non-null   object\n",
      " 5   id_cliente     9994 non-null   object\n",
      " 6   nome_cliente   9994 non-null   object\n",
      " 7   segmento       9994 non-null   object\n",
      " 8   pais           9994 non-null   object\n",
      " 9   cidade         9994 non-null   object\n",
      " 10  estado         9994 non-null   object\n",
      " 11  ce             9994 non-null   object\n",
      " 12  regiao         9994 non-null   object\n",
      " 13  id_produto     9994 non-null   object\n",
      " 14  categoria      9994 non-null   object\n",
      " 15  sub_categoria  9994 non-null   object\n",
      " 16  nome_produto   9994 non-null   object\n",
      " 17  valor_venda    9994 non-null   object\n",
      " 18  quantidade     9994 non-null   object\n",
      " 19  desconto       9994 non-null   object\n",
      " 20  lucro          9994 non-null   object\n",
      "dtypes: object(21)\n",
      "memory usage: 1.6+ MB\n"
     ]
    }
   ],
   "source": [
    "# Verificando os dados\n",
    "df.info()"
   ]
  },
  {
   "cell_type": "code",
   "execution_count": 23,
   "id": "e4d27223",
   "metadata": {},
   "outputs": [],
   "source": [
    "# Definido as colunas de dim Produtos\n",
    "df_DimProduto = df[['id_produto','nome_produto','categoria','sub_categoria']]"
   ]
  },
  {
   "cell_type": "code",
   "execution_count": 24,
   "id": "4db931dc",
   "metadata": {},
   "outputs": [
    {
     "data": {
      "text/plain": [
       "True     8098\n",
       "False    1896\n",
       "Name: count, dtype: int64"
      ]
     },
     "execution_count": 24,
     "metadata": {},
     "output_type": "execute_result"
    }
   ],
   "source": [
    "# Verificando se tem duplicado e a quantidade\n",
    "df_DimProduto.duplicated().value_counts()"
   ]
  },
  {
   "cell_type": "code",
   "execution_count": 25,
   "id": "efcc2e9d",
   "metadata": {},
   "outputs": [],
   "source": [
    "# Excluindo os duplicado pelo indice 'id_produto'\n",
    "df_DimProduto = df_DimProduto.drop_duplicates(subset=['id_produto'])"
   ]
  },
  {
   "cell_type": "code",
   "execution_count": 26,
   "id": "bd805273",
   "metadata": {},
   "outputs": [
    {
     "data": {
      "text/plain": [
       "False    1862\n",
       "Name: count, dtype: int64"
      ]
     },
     "execution_count": 26,
     "metadata": {},
     "output_type": "execute_result"
    }
   ],
   "source": [
    "# Verificando novamente e tem duplicado \n",
    "df_DimProduto.duplicated().value_counts()"
   ]
  },
  {
   "cell_type": "code",
   "execution_count": 27,
   "id": "aaef7272",
   "metadata": {},
   "outputs": [
    {
     "data": {
      "text/html": [
       "<div>\n",
       "<style scoped>\n",
       "    .dataframe tbody tr th:only-of-type {\n",
       "        vertical-align: middle;\n",
       "    }\n",
       "\n",
       "    .dataframe tbody tr th {\n",
       "        vertical-align: top;\n",
       "    }\n",
       "\n",
       "    .dataframe thead th {\n",
       "        text-align: right;\n",
       "    }\n",
       "</style>\n",
       "<table border=\"1\" class=\"dataframe\">\n",
       "  <thead>\n",
       "    <tr style=\"text-align: right;\">\n",
       "      <th></th>\n",
       "      <th>id_produto</th>\n",
       "      <th>nome_produto</th>\n",
       "      <th>categoria</th>\n",
       "      <th>sub_categoria</th>\n",
       "    </tr>\n",
       "  </thead>\n",
       "  <tbody>\n",
       "    <tr>\n",
       "      <th>708</th>\n",
       "      <td>OFF-PA-10003424</td>\n",
       "      <td>\"While you Were Out\" Message Book, One Form pe...</td>\n",
       "      <td>Office Supplies</td>\n",
       "      <td>Paper</td>\n",
       "    </tr>\n",
       "    <tr>\n",
       "      <th>924</th>\n",
       "      <td>OFF-EN-10001137</td>\n",
       "      <td>#10 Gummed Flap White Envelopes, 100/Box</td>\n",
       "      <td>Office Supplies</td>\n",
       "      <td>Envelopes</td>\n",
       "    </tr>\n",
       "    <tr>\n",
       "      <th>1487</th>\n",
       "      <td>OFF-EN-10002312</td>\n",
       "      <td>#10 Self-Seal White Envelopes</td>\n",
       "      <td>Office Supplies</td>\n",
       "      <td>Envelopes</td>\n",
       "    </tr>\n",
       "    <tr>\n",
       "      <th>2188</th>\n",
       "      <td>OFF-EN-10004483</td>\n",
       "      <td>#10 White Business Envelopes,4 1/8 x 9 1/2</td>\n",
       "      <td>Office Supplies</td>\n",
       "      <td>Envelopes</td>\n",
       "    </tr>\n",
       "    <tr>\n",
       "      <th>199</th>\n",
       "      <td>OFF-EN-10000461</td>\n",
       "      <td>#10- 4 1/8\" x 9 1/2\" Recycled Envelopes</td>\n",
       "      <td>Office Supplies</td>\n",
       "      <td>Envelopes</td>\n",
       "    </tr>\n",
       "  </tbody>\n",
       "</table>\n",
       "</div>"
      ],
      "text/plain": [
       "           id_produto                                       nome_produto  \\\n",
       "708   OFF-PA-10003424  \"While you Were Out\" Message Book, One Form pe...   \n",
       "924   OFF-EN-10001137           #10 Gummed Flap White Envelopes, 100/Box   \n",
       "1487  OFF-EN-10002312                      #10 Self-Seal White Envelopes   \n",
       "2188  OFF-EN-10004483         #10 White Business Envelopes,4 1/8 x 9 1/2   \n",
       "199   OFF-EN-10000461            #10- 4 1/8\" x 9 1/2\" Recycled Envelopes   \n",
       "\n",
       "            categoria sub_categoria  \n",
       "708   Office Supplies         Paper  \n",
       "924   Office Supplies     Envelopes  \n",
       "1487  Office Supplies     Envelopes  \n",
       "2188  Office Supplies     Envelopes  \n",
       "199   Office Supplies     Envelopes  "
      ]
     },
     "execution_count": 27,
     "metadata": {},
     "output_type": "execute_result"
    }
   ],
   "source": [
    "# Ordenando pelo nome_produto\n",
    "df_DimProduto = df_DimProduto.sort_values(by=['nome_produto'], ascending= True)\n",
    "df_DimProduto.head()"
   ]
  },
  {
   "cell_type": "code",
   "execution_count": 28,
   "id": "39f1ff44",
   "metadata": {},
   "outputs": [],
   "source": [
    "# Passando algumas variaveis para construir o processo de scd2\n",
    "\n",
    "now = datetime.now()                       # timestamp da carga\n",
    "SENTINEL = '2199-12-31 00:00:00'           # data que representa \"ativo\" (não nulo)\n",
    "schema = 'dw'                              # schema alvo\n",
    "tmp_table = 'tmp_dim_produto'              # nome da tabela temporária (no schema dw)\n",
    "dim_table = 'dim_produto_scd2'             # tabela de destino"
   ]
  },
  {
   "cell_type": "code",
   "execution_count": 29,
   "id": "b18195d3",
   "metadata": {},
   "outputs": [],
   "source": [
    "# Captura a data e hora atual para uso como data_inicio\n",
    "data_atual = datetime.now()\n",
    "\n",
    "#  Cria tabela temporaria no schema DW, para poder fazer o controle\n",
    "with engine.begin() as conexao:\n",
    "    df_DimProduto.to_sql(\n",
    "        \"tmp_dim_produto\",\n",
    "        conexao,\n",
    "        schema=\"dw\",\n",
    "        if_exists=\"replace\",\n",
    "        index=False,\n",
    "        method=\"multi\",\n",
    "        chunksize=5000\n",
    "    )\n"
   ]
  },
  {
   "cell_type": "code",
   "execution_count": 30,
   "id": "9069aa9c",
   "metadata": {},
   "outputs": [
    {
     "name": "stdout",
     "output_type": "stream",
     "text": [
      "Total de registros na tabela: 1862\n"
     ]
    }
   ],
   "source": [
    "# Verificando a quantidade de linhas na temp \n",
    "count = pd.read_sql(\"SELECT COUNT(*) as total_registros FROM dw.tmp_dim_produto\", engine).iloc[0,0]\n",
    "print(f\"Total de registros na tabela: {count}\")"
   ]
  },
  {
   "cell_type": "code",
   "execution_count": 31,
   "id": "e8190210",
   "metadata": {},
   "outputs": [
    {
     "name": "stdout",
     "output_type": "stream",
     "text": [
      "Registros antigos encerrados com sucesso! 1862 linhas inseridas como versao=1.\n"
     ]
    }
   ],
   "source": [
    "#  Atualiza registros antigos, encerrando a validade dos produtos alterados\n",
    "encerrar_sql = \"\"\"\n",
    "UPDATE dw.dim_produto_scd2 AS d\n",
    "SET data_fim = :data_atual\n",
    "FROM dw.tmp_dim_produto AS t\n",
    "WHERE d.id_produto = t.id_produto\n",
    "  AND d.data_fim = '2199-12-31'\n",
    "  AND (\n",
    "        d.nome_produto IS DISTINCT FROM t.nome_produto OR\n",
    "        d.categoria IS DISTINCT FROM t.categoria OR\n",
    "        d.sub_categoria IS DISTINCT FROM t.sub_categoria\n",
    "      );\n",
    "\"\"\"\n",
    "\n",
    "with engine.begin() as conexao:\n",
    "    conexao.execute(text(encerrar_sql), {\"data_atual\": data_atual})\n",
    "\n",
    "print(f\"Registros antigos encerrados com sucesso! {len(df_DimProduto)} linhas inseridas como versao=1.\")\n"
   ]
  },
  {
   "cell_type": "code",
   "execution_count": 32,
   "id": "eaece824",
   "metadata": {},
   "outputs": [
    {
     "name": "stdout",
     "output_type": "stream",
     "text": [
      "0 produto(s) novo(s) ou versão(ões) inserido(s) com sucesso!\n"
     ]
    }
   ],
   "source": [
    "# Insere novos produtos e novas versões dos produtos alterados\n",
    "inserir_sql = \"\"\"\n",
    "INSERT INTO dw.dim_produto_scd2 (\n",
    "    id_produto, nome_produto, categoria, sub_categoria, versao, data_inicio, data_fim\n",
    ")\n",
    "SELECT \n",
    "    t.id_produto,\n",
    "    t.nome_produto,\n",
    "    t.categoria,\n",
    "    t.sub_categoria,\n",
    "    COALESCE(d.versao, 0) + 1 AS versao,\n",
    "    :data_atual AS data_inicio,\n",
    "    '2199-12-31' AS data_fim\n",
    "FROM dw.tmp_dim_produto AS t\n",
    "LEFT JOIN dw.dim_produto_scd2 AS d\n",
    "    ON d.id_produto = t.id_produto\n",
    "    AND d.data_fim = :data_fim_padrao\n",
    "WHERE \n",
    "    d.id_produto IS NULL\n",
    "    OR d.nome_produto IS DISTINCT FROM t.nome_produto\n",
    "    OR d.categoria IS DISTINCT FROM t.categoria\n",
    "    OR d.sub_categoria IS DISTINCT FROM t.sub_categoria;\n",
    "\"\"\"\n",
    "\n",
    "# Executa o SQL e conta quantas linhas foram inseridas\n",
    "with engine.begin() as conexao:\n",
    "    resultado = conexao.execute(\n",
    "        text(inserir_sql),\n",
    "        {\"data_atual\": data_atual, \"data_fim_padrao\": \"2199-12-31\"}\n",
    "    )\n",
    "\n",
    "\n",
    "linhas_inseridas = resultado.rowcount\n",
    "print(f\"{linhas_inseridas} produto(s) novo(s) ou versão(ões) inserido(s) com sucesso!\")\n"
   ]
  },
  {
   "cell_type": "code",
   "execution_count": 33,
   "id": "b1f5c29d",
   "metadata": {},
   "outputs": [
    {
     "name": "stdout",
     "output_type": "stream",
     "text": [
      "Tabela temporária removida com sucesso!\n"
     ]
    }
   ],
   "source": [
    "# Remove a tabela temporária após o processamento\n",
    "with engine.begin() as conexao:\n",
    "    conexao.execute(text(\"DROP TABLE IF EXISTS dw.tmp_dim_produto;\"))\n",
    "\n",
    "print(\"Tabela temporária removida com sucesso!\")\n"
   ]
  },
  {
   "cell_type": "code",
   "execution_count": 34,
   "id": "6f47f1b6",
   "metadata": {},
   "outputs": [],
   "source": [
    "#Criando dados para verificar o funcionamento do SCD2\n",
    "# dfteste = {\n",
    "#     \"id_produto\": 999\n",
    "#     ,\"nome_produto\": 'Caixa de Pizza'\n",
    "#     ,\"categoria\": 'Caixa'\n",
    "#     ,\"sub_categoria\": 'Caixa de Comida'\n",
    "# }"
   ]
  },
  {
   "cell_type": "code",
   "execution_count": 35,
   "id": "23624e4c",
   "metadata": {},
   "outputs": [],
   "source": [
    "#Inserindo dados para verificar o funcionamento do SCD2\n",
    "\n",
    "# df_DimProduto = pd.concat([df_DimProduto, pd.DataFrame([dfteste])], ignore_index=True)"
   ]
  }
 ],
 "metadata": {
  "kernelspec": {
   "display_name": "Teste",
   "language": "python",
   "name": "python3"
  },
  "language_info": {
   "codemirror_mode": {
    "name": "ipython",
    "version": 3
   },
   "file_extension": ".py",
   "mimetype": "text/x-python",
   "name": "python",
   "nbconvert_exporter": "python",
   "pygments_lexer": "ipython3",
   "version": "3.12.11"
  }
 },
 "nbformat": 4,
 "nbformat_minor": 5
}
