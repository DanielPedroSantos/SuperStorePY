{
 "cells": [
  {
   "cell_type": "markdown",
   "id": "b01498be",
   "metadata": {},
   "source": [
    "# STG Pedidos"
   ]
  },
  {
   "cell_type": "code",
   "execution_count": 1,
   "id": "17089504",
   "metadata": {},
   "outputs": [],
   "source": [
    "import sys\n",
    "import os\n",
    "sys.path.append(os.path.abspath(os.path.join(os.getcwd(), '..')))\n"
   ]
  },
  {
   "cell_type": "code",
   "execution_count": 2,
   "id": "bc4b57fa",
   "metadata": {},
   "outputs": [],
   "source": [
    "# Importando as bibliotecas \n",
    "\n",
    "import pandas as pd \n",
    "import sys\n",
    "import os\n",
    "from sqlalchemy import text\n",
    "from sqlalchemy import create_engine\n",
    "from dotenv import load_dotenv\n",
    "from utils.acessobanco import acessobanco\n",
    "# from helpers import truncate_table\n",
    "\n"
   ]
  },
  {
   "cell_type": "code",
   "execution_count": 3,
   "id": "676c42cd",
   "metadata": {},
   "outputs": [
    {
     "data": {
      "text/plain": [
       "True"
      ]
     },
     "execution_count": 3,
     "metadata": {},
     "output_type": "execute_result"
    }
   ],
   "source": [
    "# Carrega variáveis de ambiente de arquivo específico para conexão com o banco\n",
    "load_dotenv(dotenv_path=\"/home/danielpedro/Python/Projetos/SuperStorePY/Bancos/acessobanco.env\")"
   ]
  },
  {
   "cell_type": "code",
   "execution_count": 4,
   "id": "e895faef",
   "metadata": {},
   "outputs": [],
   "source": [
    "# Cria engine de conexão com o banco PostgreSQL\n",
    "engine = acessobanco()"
   ]
  },
  {
   "cell_type": "code",
   "execution_count": 5,
   "id": "a1478c91",
   "metadata": {},
   "outputs": [],
   "source": [
    "df_vendedores = pd.read_excel('/home/danielpedro/Python/Projetos/SuperStorePY/Dataset/Sample - Superstore.xlsx', sheet_name='People')\n"
   ]
  },
  {
   "cell_type": "code",
   "execution_count": 6,
   "id": "b34b3c38",
   "metadata": {},
   "outputs": [
    {
     "name": "stdout",
     "output_type": "stream",
     "text": [
      "<class 'pandas.core.frame.DataFrame'>\n",
      "RangeIndex: 4 entries, 0 to 3\n",
      "Data columns (total 2 columns):\n",
      " #   Column  Non-Null Count  Dtype \n",
      "---  ------  --------------  ----- \n",
      " 0   Person  4 non-null      object\n",
      " 1   Region  4 non-null      object\n",
      "dtypes: object(2)\n",
      "memory usage: 196.0+ bytes\n"
     ]
    }
   ],
   "source": [
    "df_vendedores.info()"
   ]
  },
  {
   "cell_type": "code",
   "execution_count": 7,
   "id": "4b3e7c89",
   "metadata": {},
   "outputs": [
    {
     "data": {
      "text/html": [
       "<div>\n",
       "<style scoped>\n",
       "    .dataframe tbody tr th:only-of-type {\n",
       "        vertical-align: middle;\n",
       "    }\n",
       "\n",
       "    .dataframe tbody tr th {\n",
       "        vertical-align: top;\n",
       "    }\n",
       "\n",
       "    .dataframe thead th {\n",
       "        text-align: right;\n",
       "    }\n",
       "</style>\n",
       "<table border=\"1\" class=\"dataframe\">\n",
       "  <thead>\n",
       "    <tr style=\"text-align: right;\">\n",
       "      <th></th>\n",
       "      <th>Person</th>\n",
       "      <th>Region</th>\n",
       "    </tr>\n",
       "  </thead>\n",
       "  <tbody>\n",
       "    <tr>\n",
       "      <th>0</th>\n",
       "      <td>Anna Andreadi</td>\n",
       "      <td>West</td>\n",
       "    </tr>\n",
       "    <tr>\n",
       "      <th>1</th>\n",
       "      <td>Chuck Magee</td>\n",
       "      <td>East</td>\n",
       "    </tr>\n",
       "    <tr>\n",
       "      <th>2</th>\n",
       "      <td>Kelly Williams</td>\n",
       "      <td>Central</td>\n",
       "    </tr>\n",
       "    <tr>\n",
       "      <th>3</th>\n",
       "      <td>Cassandra Brandow</td>\n",
       "      <td>South</td>\n",
       "    </tr>\n",
       "  </tbody>\n",
       "</table>\n",
       "</div>"
      ],
      "text/plain": [
       "              Person   Region\n",
       "0      Anna Andreadi     West\n",
       "1        Chuck Magee     East\n",
       "2     Kelly Williams  Central\n",
       "3  Cassandra Brandow    South"
      ]
     },
     "execution_count": 7,
     "metadata": {},
     "output_type": "execute_result"
    }
   ],
   "source": [
    "df_vendedores.head()"
   ]
  },
  {
   "cell_type": "code",
   "execution_count": 20,
   "id": "fa2afaf4",
   "metadata": {},
   "outputs": [],
   "source": [
    "df_vendedores = df_vendedores.rename(columns={ \n",
    "    \"Person\": \"nome_vendedor\", \n",
    "    \"Region\":\"regiao\"})"
   ]
  },
  {
   "cell_type": "code",
   "execution_count": 21,
   "id": "8b75446e",
   "metadata": {},
   "outputs": [
    {
     "data": {
      "text/html": [
       "<div>\n",
       "<style scoped>\n",
       "    .dataframe tbody tr th:only-of-type {\n",
       "        vertical-align: middle;\n",
       "    }\n",
       "\n",
       "    .dataframe tbody tr th {\n",
       "        vertical-align: top;\n",
       "    }\n",
       "\n",
       "    .dataframe thead th {\n",
       "        text-align: right;\n",
       "    }\n",
       "</style>\n",
       "<table border=\"1\" class=\"dataframe\">\n",
       "  <thead>\n",
       "    <tr style=\"text-align: right;\">\n",
       "      <th></th>\n",
       "      <th>nome_vendedor</th>\n",
       "      <th>regiao</th>\n",
       "    </tr>\n",
       "  </thead>\n",
       "  <tbody>\n",
       "    <tr>\n",
       "      <th>0</th>\n",
       "      <td>Anna Andreadi</td>\n",
       "      <td>West</td>\n",
       "    </tr>\n",
       "    <tr>\n",
       "      <th>1</th>\n",
       "      <td>Chuck Magee</td>\n",
       "      <td>East</td>\n",
       "    </tr>\n",
       "    <tr>\n",
       "      <th>2</th>\n",
       "      <td>Kelly Williams</td>\n",
       "      <td>Central</td>\n",
       "    </tr>\n",
       "    <tr>\n",
       "      <th>3</th>\n",
       "      <td>Cassandra Brandow</td>\n",
       "      <td>South</td>\n",
       "    </tr>\n",
       "  </tbody>\n",
       "</table>\n",
       "</div>"
      ],
      "text/plain": [
       "       nome_vendedor   regiao\n",
       "0      Anna Andreadi     West\n",
       "1        Chuck Magee     East\n",
       "2     Kelly Williams  Central\n",
       "3  Cassandra Brandow    South"
      ]
     },
     "execution_count": 21,
     "metadata": {},
     "output_type": "execute_result"
    }
   ],
   "source": [
    "df_vendedores.head()"
   ]
  },
  {
   "cell_type": "code",
   "execution_count": null,
   "id": "f642565d",
   "metadata": {},
   "outputs": [],
   "source": []
  },
  {
   "cell_type": "code",
   "execution_count": 22,
   "id": "e5075c82",
   "metadata": {},
   "outputs": [
    {
     "name": "stdout",
     "output_type": "stream",
     "text": [
      "Limpando tabela stg.vendedores...\n",
      "Tabela stg.vendedores truncada com sucesso!\n"
     ]
    }
   ],
   "source": [
    "tabela = 'vendedores'\n",
    "schema = 'stg'\n",
    "\n",
    "try:\n",
    "    with engine.begin() as conn:\n",
    "        print(f'Limpando tabela {schema}.{tabela}...')\n",
    "        conn.execute(text(f'TRUNCATE TABLE {schema}.{tabela}'))\n",
    "        print(f'Tabela {schema}.{tabela} truncada com sucesso!')\n",
    "        \n",
    "except Exception as e:\n",
    "    print(f'Erro ao truncar a tabela {schema}.{tabela}: {e}')\n",
    "    print('Detalhes do erro:', str(e))"
   ]
  },
  {
   "cell_type": "code",
   "execution_count": 23,
   "id": "528a4526",
   "metadata": {},
   "outputs": [
    {
     "data": {
      "text/plain": [
       "4"
      ]
     },
     "execution_count": 23,
     "metadata": {},
     "output_type": "execute_result"
    }
   ],
   "source": [
    "# Gravando um os dados na tabela \n",
    "\n",
    "df_vendedores.to_sql(\n",
    "    name='vendedores',\n",
    "    con=engine,\n",
    "    schema='stg',\n",
    "    if_exists='append',\n",
    "    index=False,         # não envia o índice do DataFrame\n",
    "    method=\"multi\",      # insere em lote (batch)\n",
    "    chunksize=5000       # 5.000 linhas por inserção\n",
    ")"
   ]
  }
 ],
 "metadata": {
  "kernelspec": {
   "display_name": "Teste",
   "language": "python",
   "name": "python3"
  },
  "language_info": {
   "codemirror_mode": {
    "name": "ipython",
    "version": 3
   },
   "file_extension": ".py",
   "mimetype": "text/x-python",
   "name": "python",
   "nbconvert_exporter": "python",
   "pygments_lexer": "ipython3",
   "version": "3.12.11"
  }
 },
 "nbformat": 4,
 "nbformat_minor": 5
}
